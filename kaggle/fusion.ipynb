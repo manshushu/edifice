{
 "cells": [
  {
   "cell_type": "code",
   "execution_count": 1,
   "metadata": {},
   "outputs": [],
   "source": [
    "import warnings\n",
    "warnings.simplefilter('ignore')\n",
    "\n",
    "import pandas as pd\n",
    "import numpy as np\n",
    "import matplotlib.pyplot as plt\n",
    "import gc,os,random\n",
    "import time,datetime\n",
    "from tqdm import tqdm\n"
   ]
  },
  {
   "cell_type": "code",
   "execution_count": 12,
   "metadata": {},
   "outputs": [],
   "source": [
    "\n",
    "p0 = pd.read_csv('C:/Users/m0815/Downloads/submission/submission (Cat with a lot features).csv')\n",
    "p1 = pd.read_csv('C:/Users/m0815/Downloads/submission/submission (SpeedCat).csv')\n",
    "p2 = pd.read_csv('C:/Users/m0815/Downloads/submission/submission (XGB).csv')\n",
    "p3 = pd.read_csv('C:/Users/m0815/Downloads/submission/submission (cudf).csv')\n",
    "\n",
    "p0['correct'] = p0['correct']*0.3 + p1['correct']*0.35 + p2['correct']*0.15 + p3['correct']*0.1\n",
    "for index,row in p0.iterrows():\n",
    "    # print(row['correct'])\n",
    "    if float(row['correct'])>=0.5: row['correct']=1\n",
    "    else: row['correct'] =0\n",
    "    p0.iloc[index, p0.columns.get_loc('correct')] = row['correct']\n",
    "p0.to_csv('result.csv',index=False)\n"
   ]
  },
  {
   "cell_type": "code",
   "execution_count": 11,
   "metadata": {},
   "outputs": [
    {
     "name": "stdout",
     "output_type": "stream",
     "text": [
      "      name  age\n",
      "0    Alice   26\n",
      "1      Bob   31\n",
      "2  Charlie   36\n"
     ]
    }
   ],
   "source": [
    "import pandas as pd\n",
    "\n",
    "# 创建一个DataFrame\n",
    "data = {'name': ['Alice', 'Bob', 'Charlie'], 'age': [25, 30, 35]}\n",
    "df = pd.DataFrame(data)\n",
    "\n",
    "# 遍历每行并更改'age'列的值\n",
    "for index, row in df.iterrows():\n",
    "    # 计算新的年龄值\n",
    "    new_age = row['age'] + 1\n",
    "    \n",
    "    # 在DataFrame中使用.iloc属性更改该行的'age'列的值\n",
    "    df.iloc[index, df.columns.get_loc('age')] = new_age\n",
    "\n",
    "# 打印更新后的DataFrame\n",
    "print(df)\n"
   ]
  },
  {
   "cell_type": "code",
   "execution_count": null,
   "metadata": {},
   "outputs": [],
   "source": [
    "from sklearn.model_selection import GridSearchCV\n",
    "from sklearn.metrics import mean_squared_error\n",
    "import numpy as np\n",
    "\n",
    "# 定义三个模型的预测结果\n",
    "pred_speedcat = [0.1, 0.2, 0.3, 0.4]\n",
    "pred_xgb = [0.3, 0.2, 0.1, 0.4]\n",
    "pred_cudf = [0.2, 0.1, 0.4, 0.3]\n",
    "\n",
    "# 定义加权系数的步长和范围\n",
    "step_size = 0.1\n",
    "weights = np.arange(step_size, 1.0+step_size, step_size)\n",
    "\n",
    "# 定义评分函数\n",
    "def rmse(y_true, y_pred):\n",
    "    return np.sqrt(mean_squared_error(y_true, y_pred))\n",
    "\n",
    "# 构造参数字典\n",
    "params = {\n",
    "    'weights': [list(w) for w in np.ndindex((len(weights),)*3)],\n",
    "}\n",
    "\n",
    "# 定义模型\n",
    "model = GridSearchCV(\n",
    "    estimator=WeightedModel([speedcat, xgb, cudf]),\n",
    "    param_grid=params,\n",
    "    scoring=make_scorer(rmse, greater_is_better=False),\n",
    "    cv=5,\n",
    "    n_jobs=-1\n",
    ")\n",
    "\n",
    "# 训练模型\n",
    "model.fit(X_train, y_train)\n",
    "\n",
    "# 输出最优参数组合及其对应的性能指标\n",
    "print(f\"Best parameters: {model.best_params_}\")\n",
    "print(f\"RMSE score: {-model.best_score_:.4f}\")\n",
    "\n",
    "# 预测结果并输出性能指标\n",
    "y_pred = model.predict(X_test)\n",
    "print(f\"Test RMSE score: {np.sqrt(mean_squared_error(y_test, y_pred)):.4f}\")\n",
    "\n",
    "# WeightedModel 定义如下\n",
    "class WeightedModel:\n",
    "    def __init__(self, models):\n",
    "        self.models = models\n",
    "    \n",
    "    def fit(self, X, y):\n",
    "        for model in self.models:\n",
    "            model.fit(X, y)\n",
    "    \n",
    "    def predict(self, X):\n",
    "        preds = np.array(\n",
    "            [model.predict(X) for model in self.models]\n",
    "        )\n",
    "        return (preds.T * self.weights).sum(axis=1)\n"
   ]
  }
 ],
 "metadata": {
  "kernelspec": {
   "display_name": "machine_learning",
   "language": "python",
   "name": "python3"
  },
  "language_info": {
   "codemirror_mode": {
    "name": "ipython",
    "version": 3
   },
   "file_extension": ".py",
   "mimetype": "text/x-python",
   "name": "python",
   "nbconvert_exporter": "python",
   "pygments_lexer": "ipython3",
   "version": "3.10.10"
  },
  "orig_nbformat": 4
 },
 "nbformat": 4,
 "nbformat_minor": 2
}
