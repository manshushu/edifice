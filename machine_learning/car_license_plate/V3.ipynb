{
 "cells": [
  {
   "cell_type": "code",
   "execution_count": null,
   "metadata": {},
   "outputs": [],
   "source": [
    "import os\n",
    "import cv2\n",
    "import numpy as np\n",
    "\n",
    "import pytesseract as pt\n",
    "import plotly.express as px\n",
    "from skimage import io\n"
   ]
  },
  {
   "cell_type": "code",
   "execution_count": null,
   "metadata": {},
   "outputs": [],
   "source": [
    "# settings\n",
    "INPUT_WIDTH =  640\n",
    "INPUT_HEIGHT = 640"
   ]
  },
  {
   "cell_type": "code",
   "execution_count": null,
   "metadata": {},
   "outputs": [],
   "source": [
    "# LOAD YOLO MODEL\n",
    "net = cv2.dnn.readNetFromONNX('best.onnx')\n",
    "net.setPreferableBackend(cv2.dnn.DNN_BACKEND_OPENCV)\n",
    "net.setPreferableTarget(cv2.dnn.DNN_TARGET_CPU)"
   ]
  },
  {
   "cell_type": "code",
   "execution_count": null,
   "metadata": {},
   "outputs": [],
   "source": [
    "def get_detections(img,net):\n",
    "    # 1.CONVERT IMAGE TO YOLO FORMAT\n",
    "    image = img.copy()\n",
    "    row, col, d = image.shape\n",
    "\n",
    "    max_rc = max(row,col)\n",
    "    input_image = np.zeros((max_rc,max_rc,3),dtype=np.uint8)\n",
    "    input_image[0:row,0:col] = image\n",
    "\n",
    "    # 2. GET PREDICTION FROM YOLO MODEL\n",
    "    blob = cv2.dnn.blobFromImage(input_image,1/255,(INPUT_WIDTH,INPUT_HEIGHT),swapRB=True,crop=False)\n",
    "    net.setInput(blob)\n",
    "    preds = net.forward()\n",
    "    detections = preds[0]\n",
    "    \n",
    "    return input_image, detections\n",
    "\n",
    "def non_maximum_supression(input_image,detections):\n",
    "    \n",
    "    # 3. FILTER DETECTIONS BASED ON CONFIDENCE AND PROBABILIY SCORE\n",
    "    \n",
    "    # center x, center y, w , h, conf, proba\n",
    "    boxes = []\n",
    "    confidences = []\n",
    "\n",
    "    image_w, image_h = input_image.shape[:2]\n",
    "    x_factor = image_w/INPUT_WIDTH\n",
    "    y_factor = image_h/INPUT_HEIGHT\n",
    "\n",
    "    for i in range(len(detections)):\n",
    "        row = detections[i]\n",
    "        confidence = row[4] # confidence of detecting license plate\n",
    "        if confidence > 0.4:\n",
    "            class_score = row[5] # probability score of license plate\n",
    "            if class_score > 0.25:\n",
    "                cx, cy , w, h = row[0:4]\n",
    "\n",
    "                left = int((cx - 0.5*w)*x_factor)\n",
    "                top = int((cy-0.5*h)*y_factor)\n",
    "                width = int(w*x_factor)\n",
    "                height = int(h*y_factor)\n",
    "                box = np.array([left,top,width,height])\n",
    "\n",
    "                confidences.append(confidence)\n",
    "                boxes.append(box)\n",
    "\n",
    "    # 4.1 CLEAN\n",
    "    boxes_np = np.array(boxes).tolist()\n",
    "    confidences_np = np.array(confidences).tolist()\n",
    "    \n",
    "    # 4.2 NMS\n",
    "    index = cv2.dnn.NMSBoxes(boxes_np,confidences_np,0.25,0.45)\n",
    "    \n",
    "    return boxes_np, confidences_np, index\n",
    "# extrating text\n",
    "def extract_text(image,bbox):\n",
    "    x,y,w,h = bbox\n",
    "    roi = image[y:y+h, x:x+w]\n",
    "    \n",
    "    if 0 in roi.shape:\n",
    "        return 'no number'\n",
    "    \n",
    "    else:\n",
    "        text = pt.image_to_string(roi)\n",
    "        text = text.strip()\n",
    "        \n",
    "        return text\n",
    "def drawings(image,boxes_np,confidences_np,index):\n",
    "    # 5. Drawings\n",
    "    for ind in index:\n",
    "        x,y,w,h =  boxes_np[ind]\n",
    "        bb_conf = confidences_np[ind]\n",
    "        conf_text = 'plate: {:.0f}%'.format(bb_conf*100)\n",
    "        license_text = extract_text(image,boxes_np[ind])\n",
    "\n",
    "\n",
    "        cv2.rectangle(image,(x,y),(x+w,y+h),(255,0,255),2)\n",
    "        cv2.rectangle(image,(x,y-30),(x+w,y),(255,0,255),-1)\n",
    "        cv2.rectangle(image,(x,y+h),(x+w,y+h+25),(0,0,0),-1)\n",
    "\n",
    "\n",
    "        cv2.putText(image,conf_text,(x,y-10),cv2.FONT_HERSHEY_SIMPLEX,0.7,(255,255,255),1)\n",
    "        cv2.putText(image,license_text,(x,y+h+27),cv2.FONT_HERSHEY_SIMPLEX,0.7,(0,255,0),1)\n",
    "\n",
    "    return image"
   ]
  },
  {
   "cell_type": "code",
   "execution_count": null,
   "metadata": {},
   "outputs": [],
   "source": [
    "# predictions flow with return result\n",
    "def yolo_predictions(img,net):\n",
    "    # step-1: detections\n",
    "    input_image, detections = get_detections(img,net)\n",
    "    # step-2: NMS\n",
    "    boxes_np, confidences_np, index = non_maximum_supression(input_image, detections)\n",
    "    # step-3: Drawings\n",
    "    result_img = drawings(img,boxes_np,confidences_np,index)\n",
    "    return result_img"
   ]
  },
  {
   "cell_type": "code",
   "execution_count": null,
   "metadata": {},
   "outputs": [],
   "source": [
    "# test\n",
    "img = io.imread('Cars167.png')\n",
    "results = yolo_predictions(img,net)"
   ]
  },
  {
   "cell_type": "code",
   "execution_count": null,
   "metadata": {},
   "outputs": [],
   "source": [
    "fig = px.imshow(img)\n",
    "fig.update_layout(width=700, height=400, margin=dict(l=10, r=10, b=10, t=10))\n",
    "fig.update_xaxes(showticklabels=False).update_yaxes(showticklabels=False)\n",
    "fig.show()"
   ]
  },
  {
   "cell_type": "code",
   "execution_count": null,
   "metadata": {},
   "outputs": [],
   "source": [
    "cap = cv2.VideoCapture('../input/number-plate-detection/TEST/TEST.mp4')\n",
    "while True:\n",
    "    ret, frame = cap.read()\n",
    "    \n",
    "    if ret == False:\n",
    "        print('Unable to read video')\n",
    "        break\n",
    "        \n",
    "    results = yolo_predictions(frame,net)\n",
    "    \n",
    "    cv2.namedWindow('YOLO',cv2.WINDOW_KEEPRATIO)\n",
    "    cv2.imshow('YOLO',results)\n",
    "    if cv2.waitKey(30) == 27 :\n",
    "        break\n",
    "        \n",
    "cv2.destroyAllWindows()\n",
    "cap.release()"
   ]
  }
 ],
 "metadata": {
  "kernelspec": {
   "display_name": "machine_learning",
   "language": "python",
   "name": "python3"
  },
  "language_info": {
   "name": "python",
   "version": "3.10.10"
  },
  "orig_nbformat": 4
 },
 "nbformat": 4,
 "nbformat_minor": 2
}
