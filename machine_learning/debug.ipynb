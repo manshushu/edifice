{
 "cells": [
  {
   "cell_type": "code",
   "execution_count": 1,
   "metadata": {},
   "outputs": [
    {
     "name": "stdout",
     "output_type": "stream",
     "text": [
      "Epoch 1/5\n",
      "1875/1875 [==============================] - 16s 8ms/step - loss: 0.2352 - accuracy: 0.9268 - val_loss: 0.0606 - val_accuracy: 0.9809\n",
      "Epoch 2/5\n",
      "1875/1875 [==============================] - 14s 8ms/step - loss: 0.0902 - accuracy: 0.9720 - val_loss: 0.0452 - val_accuracy: 0.9861\n",
      "Epoch 3/5\n",
      "1875/1875 [==============================] - 14s 8ms/step - loss: 0.0688 - accuracy: 0.9792 - val_loss: 0.0385 - val_accuracy: 0.9879\n",
      "Epoch 4/5\n",
      "1875/1875 [==============================] - 14s 8ms/step - loss: 0.0593 - accuracy: 0.9820 - val_loss: 0.0365 - val_accuracy: 0.9872\n",
      "Epoch 5/5\n",
      "1875/1875 [==============================] - 14s 7ms/step - loss: 0.0524 - accuracy: 0.9837 - val_loss: 0.0351 - val_accuracy: 0.9885\n"
     ]
    },
    {
     "data": {
      "image/png": "[encoded data removed]",
      "text/plain": [
       "<Figure size 640x480 with 1 Axes>"
      ]
     },
     "metadata": {},
     "output_type": "display_data"
    }
   ],
   "source": [
    "import tensorflow as tf\n",
    "from keras.utils import normalize\n",
    "from tensorflow.python.keras.models import Sequential\n",
    "from tensorflow.python.keras.layers import Dense, Conv2D, Flatten, MaxPooling2D, Dropout\n",
    "\n",
    "# 加载数据集\n",
    "(x_train, y_train), (x_test, y_test) = tf.keras.datasets.mnist.load_data()\n",
    "# normalize 图片处理（正则化）0-255 -> 0-1\n",
    "normalized_x_train = normalize(x_train)\n",
    "normalized_x_test = normalize(x_test)\n",
    "# one hot 标签处理  从一维数组变成10*10二维数组 独热编码 1 -> [0,1,0,0,...]\n",
    "one_hot_y_train = tf.one_hot(y_train, 10)\n",
    "one_hot_y_test = tf.one_hot(y_test, 10)\n",
    "# flatten\n",
    "reshaped_x_train = normalized_x_train.reshape(-1, 28, 28, 1)\n",
    "reshaped_x_test = normalized_x_test.reshape(-1, 28, 28, 1)\n",
    "# 创建Sequential 模型\n",
    "model = Sequential()\n",
    "model.add(Conv2D(10, (5, 5), activation=\"relu\", input_shape=(28, 28, 1)))\n",
    "model.add(MaxPooling2D(pool_size=(2, 2)))\n",
    "\n",
    "model.add(Conv2D(20, (5, 5), activation=\"relu\"))\n",
    "model.add(MaxPooling2D(pool_size=(2, 2)))\n",
    "model.add(Dropout(0.25))\n",
    "model.add(Flatten())\n",
    "model.add(Dense(100, activation=\"relu\"))\n",
    "model.add(Dense(10, activation=\"softmax\"))\n",
    "model.compile(\n",
    "    optimizer=\"rmsprop\",\n",
    "    loss=tf.keras.losses.categorical_crossentropy,\n",
    "    metrics=[\"accuracy\"],\n",
    ")\n",
    "# 训练模型\n",
    "train_result = model.fit(\n",
    "    reshaped_x_train,\n",
    "    one_hot_y_train,\n",
    "    epochs=5,\n",
    "    validation_data=(reshaped_x_test, one_hot_y_test),\n",
    ")\n",
    "# 图形显示训练结果\n",
    "import matplotlib.pyplot as plt\n",
    "\n",
    "plt.plot(train_result.history[\"accuracy\"])\n",
    "plt.plot(train_result.history[\"val_accuracy\"])\n",
    "plt.legend([\"Accuracy\", \"Validation Acc\"])\n",
    "plt.show()\n"
   ]
  },
  {
   "cell_type": "code",
   "execution_count": 2,
   "metadata": {},
   "outputs": [],
   "source": [
    "model.save(\"debug.h5\")\n"
   ]
  },
  {
   "cell_type": "code",
   "execution_count": null,
   "metadata": {},
   "outputs": [],
   "source": [
    "# copper后\n",
    "# cv2.imshow(\"cropped_img\",cropped_img)\n",
    "# cv2.waitKey(0)  # 等待任意时间\n",
    "# cv2.destroyAllWindows()\n",
    "\n",
    "gray_img = cv2.cvtColor(cropped_img, cv2.COLOR_BGR2GRAY)\n",
    "gray_img = gray_img / 255\n",
    "gray_img = gray_img.reshape(-1, 28, 28, 1)\n",
    "# cv2.imshow(\"gray_img\",gray_img)\n",
    "# cv2.waitKey(0)  # 等待任意时间\n",
    "# cv2.destroyAllWindows()\n",
    "(thresh, black_white) = cv2.threshold(\n",
    "    gray_img, 128, 255, cv2.THRESH_BINARY | cv2.THRESH_OTSU\n",
    ")\n",
    "\n",
    "black_white = cv2.bitwise_not(black_white)\n",
    "black_white = cv2.resize(black_white, (28, 28))\n",
    "# cv2.imshow(\"gray_img\",black_white)\n",
    "# cv2.waitKey(0)  # 等待任意时间\n",
    "# cv2.destroyAllWindows()\n",
    "\n",
    "black_white = black_white / 255\n",
    "black_white = black_white.reshape(-1, 28, 28, 1)\n",
    "# prediction前\n"
   ]
  },
  {
   "cell_type": "code",
   "execution_count": 5,
   "metadata": {},
   "outputs": [
    {
     "name": "stdout",
     "output_type": "stream",
     "text": [
      "1/1 [==============================] - 0s 64ms/step\n",
      "5\n"
     ]
    }
   ],
   "source": [
    "import cv2\n",
    "import tensorflow as tf\n",
    "import matplotlib.pyplot as plt\n",
    "\n",
    "model = tf.keras.models.load_model(\"debug.h5\")\n",
    "path = \"4.jpg\"\n",
    "img = cv2.imread(path)\n",
    "img_width = img.shape[1]\n",
    "img_height = img.shape[0]\n",
    "col_start = int((img_width - img_height) / 2)\n",
    "col_end = int(col_start + img_height)\n",
    "cropped_img = img[:, col_start:col_end, :]\n",
    "\n",
    "gray_img = cv2.cvtColor(cropped_img, cv2.COLOR_BGR2GRAY)\n",
    "\n",
    "\n",
    "resized = cv2.resize(gray_img, (28, 28))\n",
    "\n",
    "# 将图像转换为1x28x28的形状并归一化\n",
    "# normalized = resized.reshape((1, 28, 28)) / 255.0\n",
    "\n",
    "prediction = model.predict(normalized)\n",
    "\n",
    "import numpy as np\n",
    "\n",
    "print(np.argmax(prediction))\n",
    "# 保存模型\n",
    "# model.save(\"mnist_cnn_model_1.h5\")\n"
   ]
  }
 ],
 "metadata": {
  "kernelspec": {
   "display_name": "machine_learning",
   "language": "python",
   "name": "python3"
  },
  "language_info": {
   "codemirror_mode": {
    "name": "ipython",
    "version": 3
   },
   "file_extension": ".py",
   "mimetype": "text/x-python",
   "name": "python",
   "nbconvert_exporter": "python",
   "pygments_lexer": "ipython3",
   "version": "3.10.10"
  },
  "orig_nbformat": 4
 },
 "nbformat": 4,
 "nbformat_minor": 2
}
