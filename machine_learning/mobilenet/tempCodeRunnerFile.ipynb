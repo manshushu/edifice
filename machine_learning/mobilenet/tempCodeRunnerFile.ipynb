with open('coco-labels-paper.txt', 'rt') as f:
    labels = f.read().rstrip('\n').split('\n')