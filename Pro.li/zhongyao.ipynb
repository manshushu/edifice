{
 "cells": [
  {
   "cell_type": "code",
   "execution_count": 1,
   "metadata": {},
   "outputs": [],
   "source": [
    "import csv\n",
    "from requests_html import HTMLSession\n"
   ]
  },
  {
   "cell_type": "code",
   "execution_count": 7,
   "metadata": {},
   "outputs": [
    {
     "ename": "RuntimeError",
     "evalue": "Cannot use HTMLSession within an existing event loop. Use AsyncHTMLSession instead.",
     "output_type": "error",
     "traceback": [
      "\u001b[1;31m---------------------------------------------------------------------------\u001b[0m",
      "\u001b[1;31mRuntimeError\u001b[0m                              Traceback (most recent call last)",
      "Cell \u001b[1;32mIn[7], line 5\u001b[0m\n\u001b[0;32m      2\u001b[0m session \u001b[39m=\u001b[39m HTMLSession()\n\u001b[0;32m      4\u001b[0m response \u001b[39m=\u001b[39m session\u001b[39m.\u001b[39mget(url)\n\u001b[1;32m----> 5\u001b[0m response\u001b[39m.\u001b[39;49mhtml\u001b[39m.\u001b[39;49mrender()\n",
      "File \u001b[1;32m~\\AppData\\Roaming\\Python\\Python310\\site-packages\\requests_html.py:586\u001b[0m, in \u001b[0;36mHTML.render\u001b[1;34m(self, retries, script, wait, scrolldown, sleep, reload, timeout, keep_page)\u001b[0m\n\u001b[0;32m    541\u001b[0m \u001b[39mdef\u001b[39;00m \u001b[39mrender\u001b[39m(\u001b[39mself\u001b[39m, retries: \u001b[39mint\u001b[39m \u001b[39m=\u001b[39m \u001b[39m8\u001b[39m, script: \u001b[39mstr\u001b[39m \u001b[39m=\u001b[39m \u001b[39mNone\u001b[39;00m, wait: \u001b[39mfloat\u001b[39m \u001b[39m=\u001b[39m \u001b[39m0.2\u001b[39m, scrolldown\u001b[39m=\u001b[39m\u001b[39mFalse\u001b[39;00m, sleep: \u001b[39mint\u001b[39m \u001b[39m=\u001b[39m \u001b[39m0\u001b[39m, reload: \u001b[39mbool\u001b[39m \u001b[39m=\u001b[39m \u001b[39mTrue\u001b[39;00m, timeout: Union[\u001b[39mfloat\u001b[39m, \u001b[39mint\u001b[39m] \u001b[39m=\u001b[39m \u001b[39m8.0\u001b[39m, keep_page: \u001b[39mbool\u001b[39m \u001b[39m=\u001b[39m \u001b[39mFalse\u001b[39;00m):\n\u001b[0;32m    542\u001b[0m     \u001b[39m\"\"\"Reloads the response in Chromium, and replaces HTML content\u001b[39;00m\n\u001b[0;32m    543\u001b[0m \u001b[39m    with an updated version, with JavaScript executed.\u001b[39;00m\n\u001b[0;32m    544\u001b[0m \n\u001b[1;32m   (...)\u001b[0m\n\u001b[0;32m    583\u001b[0m \u001b[39m    Chromium into your home directory (``~/.pyppeteer``).\u001b[39;00m\n\u001b[0;32m    584\u001b[0m \u001b[39m    \"\"\"\u001b[39;00m\n\u001b[1;32m--> 586\u001b[0m     \u001b[39mself\u001b[39m\u001b[39m.\u001b[39mbrowser \u001b[39m=\u001b[39m \u001b[39mself\u001b[39;49m\u001b[39m.\u001b[39;49msession\u001b[39m.\u001b[39;49mbrowser  \u001b[39m# Automatically create a event loop and browser\u001b[39;00m\n\u001b[0;32m    587\u001b[0m     content \u001b[39m=\u001b[39m \u001b[39mNone\u001b[39;00m\n\u001b[0;32m    589\u001b[0m     \u001b[39m# Automatically set Reload to False, if example URL is being used.\u001b[39;00m\n",
      "File \u001b[1;32m~\\AppData\\Roaming\\Python\\Python310\\site-packages\\requests_html.py:729\u001b[0m, in \u001b[0;36mHTMLSession.browser\u001b[1;34m(self)\u001b[0m\n\u001b[0;32m    727\u001b[0m     \u001b[39mself\u001b[39m\u001b[39m.\u001b[39mloop \u001b[39m=\u001b[39m asyncio\u001b[39m.\u001b[39mget_event_loop()\n\u001b[0;32m    728\u001b[0m     \u001b[39mif\u001b[39;00m \u001b[39mself\u001b[39m\u001b[39m.\u001b[39mloop\u001b[39m.\u001b[39mis_running():\n\u001b[1;32m--> 729\u001b[0m         \u001b[39mraise\u001b[39;00m \u001b[39mRuntimeError\u001b[39;00m(\u001b[39m\"\u001b[39m\u001b[39mCannot use HTMLSession within an existing event loop. Use AsyncHTMLSession instead.\u001b[39m\u001b[39m\"\u001b[39m)\n\u001b[0;32m    730\u001b[0m     \u001b[39mself\u001b[39m\u001b[39m.\u001b[39m_browser \u001b[39m=\u001b[39m \u001b[39mself\u001b[39m\u001b[39m.\u001b[39mloop\u001b[39m.\u001b[39mrun_until_complete(\u001b[39msuper\u001b[39m()\u001b[39m.\u001b[39mbrowser)\n\u001b[0;32m    731\u001b[0m \u001b[39mreturn\u001b[39;00m \u001b[39mself\u001b[39m\u001b[39m.\u001b[39m_browser\n",
      "\u001b[1;31mRuntimeError\u001b[0m: Cannot use HTMLSession within an existing event loop. Use AsyncHTMLSession instead."
     ]
    }
   ],
   "source": [
    "url = 'http://www.tcmdoc.cn/ShuJuKu/ZhongYao/1.thtml'\n",
    "session = HTMLSession()\n",
    "\n",
    "response = session.get(url)\n",
    "response.html.render()\n"
   ]
  },
  {
   "cell_type": "code",
   "execution_count": 6,
   "metadata": {},
   "outputs": [
    {
     "name": "stdout",
     "output_type": "stream",
     "text": [
      "【拼音名】Yì Bāo Huā\n",
      "【别名】红花倒水莲。\n",
      "【来源】药材基源：为远志科植物曲江远志或大叶金牛的全草。拉丁植物动物矿物名：1.Polygala koi Merr.2.Polygala latouchei Franch.采收和储藏：春、夏季采收，切段晒干。\n",
      "【原形态】1.曲江远志 短小亚灌木，高5-15cm。茎下部木质，匍匐地上，多分枝，常具隆起的叶痕；茎上部具叶，直立，被稍弯疏柔毛。单叶互生；叶柄长5-15mm；叶纸质或厚纸质，椭圆形或阔椭圆形，长1.5-7cm，宽0.6-3cm，先端钝或短尖，近圆形，基部阔楔形或楔形，全缘，稍反卷，上面绿色，下面浅绿带紫色，两面均无毛或沿叶缘被白色小刚毛。花两性，总状花序顶生，单1或成对；花密生，长约1cm，紫红色；花梗长约2mm，无毛；小苞片花时不落，膜质，长圆状卵形，与花梗近等长；萼片5，花后脱落，膜质，外面3枚长约3mm，内面2枚椭圆状倒卵形，长约7mm，具5脉；花瓣3，长达9mm，1/2以下合生，龙骨瓣具2深裂片状鸡冠状附属物；雄蕊8，花丝5/7以下合生成鞘；子房扁圆形，具翅，具花盘，无毛，先端凹，花柱上部扩大，先端钩状。蒴果扁圆形，直径约4mm，先端凹入，具狭翅。种子卵形，黑色，具小乳突，疏被白色短柔毛，种阜翅状2裂，与种子几等长或稍长。花、果期5-8月。2.大叶金牛 本种与曲江远志的区别在于：叶柄具狭翅；叶片卵状、倒卵状或椭圆状披针形，长3.5-8cm，宽1.5-2.5cm，基部偏斜，背面淡紫色。外萼片几相等；鸡冠状附属物为2片，顶端3浅裂；花瓣3/4以下合生。花、果期3-5月。\n",
      "【生境分布】生态环境：1.生于海拔900-1000m的山谷密林中岩石上。2.生长于海拔700-1300m的林下岩石上或山坡草地。资源分布：1.分布于湖南、广东、广西等地。2.分布于江西、福建、广东、广西等地。\n",
      "【性状】性状鉴别 （1）曲江远志本品幼茎被紧贴短柔毛或无毛。叶多为肉质，椭圆形，长1.5-4cm，宽0.6-1.5cm，顶端钝或近圆形，基部楔形或近圆形，全缘，无毛或沿叶缘被小刚毛，背面淡紫色，无毛，具3条侧脉，不明显，叶柄长5-10mm。气微，味淡。（2）大叶金牛本品茎细长，下部具圆形突起的叶痕。叶纸质，密集于茎上部，完整叶片呈卵状披针形至倒卵形、椭圆状披针形，长3.5-8cm，宽1.5-2.2cm，先端急尖，具骨质短尖头，基部偏斜，近圆形，上表面被小刚毛，背面暗紫色，无毛，侧脉弧曲；叶柄具狭翅，被短柔毛。气微，味淡。\n",
      "【性味】辛；苦；平\n",
      "【功能主治】化痰止咳；活血调经。主咳嗽痰多；咽喉肿痛；小儿疳积；跌打损伤；月经不调\n",
      "【用法用量】内服：煎汤，6-15g；或研末。\n",
      "【摘录】《中华本草》\n",
      "\n",
      "......\n",
      "\n",
      "非注册付费用户仅能浏览部分内容，更多内容，请 注册或付费\n",
      "用户中心\n",
      "本站图书检索\n",
      "电子书下载\n",
      "《本草纲目》.chm\n",
      "《经方一百首》.chm\n",
      "经典中医古籍\n",
      "素问    灵枢    伤寒论    金匮要略\n",
      "神农本草经    难经    本草纲目\n",
      "外台秘要    千金要方    千金翼方\n",
      "中药学教材（附图片）\n",
      "人参   丁香   黄芪   鹿茸   芦荟\n",
      "菊花   百合   当归   海马   灵芝\n",
      "阿胶   红花   珍珠   槟榔   天麻\n",
      "山楂   白果   三七   蜂蜜   木瓜\n",
      "冬虫夏草   枸杞子   蒲公英\n",
      "西洋参   五味子   玫瑰花   党参\n",
      "穴位数据库（附图片）\n",
      "列缺   手三里   曲池   足三里\n",
      "地仓   三阴交   合谷   地机   血海\n",
      "青灵   少海   肩贞   睛明   肾俞\n",
      "委中   承山   涌泉   太溪   照海\n",
      "劳宫   外关   阳陵泉   光明   大敦\n",
      "太冲   长强   腰阳关   命门   关元\n",
      "大椎   复溜   百会   飞扬   内关\n",
      "本站资源来自互联网，收录仅出于学习、研究目的，如有侵犯版权，请来信告知，将在3个工作日内做出相应的处理并答复。\n",
      "网站所有信息仅供参考，不构成任何之建议、推荐或指引，不能仅凭此信息购药、用药、诊断疾病或开处方,而应以其使用说明书为准,并谨遵医嘱。\n",
      "CopyRight © 2019 版权所有 www.tcmdoc.cn  站长信箱：tcmdoc@126.com  沪ICP备11008129号-10\n",
      "LA.init({id:\"K0xdyWeGf27mSuwW\",ck:\"K0xdyWeGf27mSuwW\"})\n"
     ]
    },
    {
     "ename": "AttributeError",
     "evalue": "'str' object has no attribute 'text'",
     "output_type": "error",
     "traceback": [
      "\u001b[1;31m---------------------------------------------------------------------------\u001b[0m",
      "\u001b[1;31mAttributeError\u001b[0m                            Traceback (most recent call last)",
      "Cell \u001b[1;32mIn[6], line 10\u001b[0m\n\u001b[0;32m      8\u001b[0m \u001b[39m# 将每个单元格写入csv文件的一行中\u001b[39;00m\n\u001b[0;32m      9\u001b[0m \u001b[39mfor\u001b[39;00m i \u001b[39min\u001b[39;00m \u001b[39mrange\u001b[39m(\u001b[39m0\u001b[39m, \u001b[39mlen\u001b[39m(rows), \u001b[39m2\u001b[39m):\n\u001b[1;32m---> 10\u001b[0m     writer\u001b[39m.\u001b[39mwriterow([rows[i]\u001b[39m.\u001b[39;49mtext\u001b[39m.\u001b[39mstrip(), rows[i\u001b[39m+\u001b[39m\u001b[39m1\u001b[39m]\u001b[39m.\u001b[39mtext\u001b[39m.\u001b[39mstrip()])\n",
      "\u001b[1;31mAttributeError\u001b[0m: 'str' object has no attribute 'text'"
     ]
    }
   ],
   "source": [
    "# 提取所有表格行的单元格\n",
    "rows = response.html.xpath('//*[@id=\"PanelContent\"]/p[2]',first=True).text\n",
    "print(rows)\n",
    "# 创建csv文件并将结果写入其中\n",
    "with open('example.csv', mode='w', newline='') as f:\n",
    "    writer = csv.writer(f)\n",
    "    \n",
    "    # 将每个单元格写入csv文件的一行中\n",
    "    for i in range(0, len(rows), 2):\n",
    "        writer.writerow([rows[i].text.strip(), rows[i+1].text.strip()])\n"
   ]
  },
  {
   "cell_type": "code",
   "execution_count": null,
   "metadata": {},
   "outputs": [],
   "source": []
  }
 ],
 "metadata": {
  "kernelspec": {
   "display_name": "base",
   "language": "python",
   "name": "python3"
  },
  "language_info": {
   "codemirror_mode": {
    "name": "ipython",
    "version": 3
   },
   "file_extension": ".py",
   "mimetype": "text/x-python",
   "name": "python",
   "nbconvert_exporter": "python",
   "pygments_lexer": "ipython3",
   "version": "3.10.9"
  },
  "orig_nbformat": 4
 },
 "nbformat": 4,
 "nbformat_minor": 2
}
