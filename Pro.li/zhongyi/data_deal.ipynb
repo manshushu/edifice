{
 "cells": [
  {
   "attachments": {},
   "cell_type": "markdown",
   "metadata": {},
   "source": [
    "# 想要把每个属性提取出来\n",
    "\n",
    "【别名】"
   ]
  },
  {
   "cell_type": "code",
   "execution_count": 11,
   "metadata": {},
   "outputs": [
    {
     "name": "stdout",
     "output_type": "stream",
     "text": [
      "dict_keys(['拼音名', '别名', '来源', '原形态', '生境分布', '性状', '性味', '功能主治', '用法用量'])\n"
     ]
    }
   ],
   "source": [
    "import pandas as pd\n",
    "\n",
    "# 读取csv文件\n",
    "df = pd.read_csv(\"data.csv\", header=0)\n",
    "\n",
    "# 定义字典，用于存储各个信息\n",
    "data = {\"拼音名\":[],\n",
    "        \"别名\":[],\n",
    "        \"来源\":[],\n",
    "        \"原形态\":[],\n",
    "        \"生境分布\":[],\n",
    "        \"性状\":[],\n",
    "        \"性味\":[],\n",
    "        \"功能主治\":[],\n",
    "        \"用法用量\":[]}\n",
    "print(data.keys())\n",
    "# 遍历每行数据，根据关键词将信息存入相应的列表\n",
    "for index, row in df.iterrows():\n",
    "        for i in data.keys():\n",
    "                try:\n",
    "                        data[i].append(row['正文'].split(f'【{i}】')[1].split('【')[0])\n",
    "                except:\n",
    "                        data[i].append(\"空\")\n",
    "\n",
    "# 将字典转化为DataFrame\n",
    "result = pd.DataFrame(data)\n",
    "\n",
    "# 打印输出\n",
    "# print(result)\n",
    "\n",
    "result.to_csv('data_washed.csv',encoding='utf-8_sig',index=False)\n"
   ]
  },
  {
   "cell_type": "code",
   "execution_count": 7,
   "metadata": {},
   "outputs": [
    {
     "name": "stdout",
     "output_type": "stream",
     "text": [
      "Pinyin name: Yì Bāo Huā\n",
      "\n",
      "Aliases: 红花倒水莲。\n",
      "\n",
      "Medicinal functions: 化痰止咳；活血调经。主咳嗽痰多；咽喉肿痛；小儿疳积；跌打损伤；月经不调\n",
      "\n"
     ]
    }
   ],
   "source": [
    "text = \"\"\"【拼音名】Yì Bāo Huā\n",
    "【别名】红花倒水莲。\n",
    "【来源】药材基源：为远志科植物曲江远志或大叶金牛的全草。拉丁植物动物矿物名：1.Polygala koi Merr.2.Polygala latouchei Franch.采收和储藏：春、夏季采收，切段晒干。\n",
    "【原形态】1.曲江远志 短小亚灌木，高5-15cm。茎下部木质，匍匐地上，多分枝，常具隆起的叶痕；茎上部具叶，直立，被稍弯疏柔毛。单叶互生；叶柄长5-15mm；叶纸质或厚纸质，椭圆形或阔椭圆形，长1.5-7cm，宽0.6-3cm，先端钝或短尖，近圆形，基部阔楔形或楔形，全缘，稍反卷，上面绿色，下面浅绿带紫色，两面均无毛或沿叶缘被白色小刚毛。花两性，总状花序顶生，单1或成对；花密生，长约1cm，紫红色；花梗长约2mm，无毛；小苞片花时不落，膜质，长圆状卵形，与花梗近等长；萼片5，花后脱落，膜质，外面3枚长约3mm，内面2枚椭圆状倒卵形，长约7mm，具5脉；花瓣3，长达9mm，1/2以下合生，龙骨瓣具2深裂片状鸡冠状附属物；雄蕊8，花丝5/7以下合生成鞘；子房扁圆形，具翅，具花盘，无毛，先端凹，花柱上部扩大，先端钩状。蒴果扁圆形，直径约4mm，先端凹入，具狭翅。种子卵形，黑色，具小乳突，疏被白色短柔毛，种阜翅状2裂，与种子几等长或稍长。花、果期5-8月。2.大叶金牛 本种与曲江远志的区别在于：叶柄具狭翅；叶片卵状、倒卵状或椭圆状披针形，长3.5-8cm，宽1.5-2.5cm，基部偏斜，背面淡紫色。外萼片几相等；鸡冠状附属物为2片，顶端3浅裂；花瓣3/4以下合生。花、果期3-5月。\n",
    "【生境分布】生态环境：1.生于海拔900-1000m的山谷密林中岩石上。2.生长于海拔700-1300m的林下岩石上或山坡草地。资源分布：1.分布于湖南、广东、广西等地。2.分布于江西、福建、广东、广西等地。\n",
    "【性状】性状鉴别 （1）曲江远志本品幼茎被紧贴短柔毛或无毛。叶多为肉质，椭圆形，长1.5-4cm，宽0.6-1.5cm，顶端钝或近圆形，基部楔形或近圆形，全缘，无毛或沿叶缘被小刚毛，背面淡紫色，无毛，具3条侧脉，不明显，叶柄长5-10mm。气微，味淡。（2）大叶金牛本品茎细长，下部具圆形突起的叶痕。叶纸质，密集于茎上部，完整叶片呈卵状披针形至倒卵形、椭圆状披针形，长3.5-8cm，宽1.5-2.2cm，先端急尖，具骨质短尖头，基部偏斜，近圆形，上表面被小刚毛，背面暗紫色，无毛，侧脉弧曲；叶柄具狭翅，被短柔毛。气微，味淡。\n",
    "【性味】辛；苦；平\n",
    "【功能主治】化痰止咳；活血调经。主咳嗽痰多；咽喉肿痛；小儿疳积；跌打损伤；月经不调\n",
    "【用法用量】内服：煎汤，6-15g；或研末。\n",
    "【摘录】《中华本草》\n",
    "\"\"\"\n",
    "# Get the Pinyin name\n",
    "pinyin_name = text.split('【拼音名】')[1].split('【')[0]\n",
    "\n",
    "# Get the aliases\n",
    "aliases = text.split('【别名】')[1].split('【')[0]\n",
    "\n",
    "# Get the medicinal functions\n",
    "functions = text.split('【功能主治】')[1].split('【')[0]\n",
    "\n",
    "print('Pinyin name:', pinyin_name)\n",
    "print('Aliases:', aliases)\n",
    "print('Medicinal functions:', functions)\n"
   ]
  },
  {
   "cell_type": "code",
   "execution_count": 14,
   "metadata": {},
   "outputs": [
    {
     "ename": "TypeError",
     "evalue": "sequence item 0: expected str instance, list found",
     "output_type": "error",
     "traceback": [
      "\u001b[1;31m---------------------------------------------------------------------------\u001b[0m",
      "\u001b[1;31mTypeError\u001b[0m                                 Traceback (most recent call last)",
      "Cell \u001b[1;32mIn[14], line 9\u001b[0m\n\u001b[0;32m      3\u001b[0m \u001b[39m# 将单词转换成带音调的中文\u001b[39;00m\n\u001b[0;32m      4\u001b[0m \u001b[39m# hanzi_with_tone = \"Yì Bāo Huā\".join(pinyin(\"pīn yīn\", style=Style.TONE3))\u001b[39;00m\n\u001b[0;32m      5\u001b[0m \u001b[39m# print(hanzi_with_tone)  # 输出结果：pīn yīn\u001b[39;00m\n\u001b[0;32m      6\u001b[0m \n\u001b[0;32m      7\u001b[0m \u001b[39m# 将带有音调的句子转换成中文\u001b[39;00m\n\u001b[0;32m      8\u001b[0m sentence_with_tone \u001b[39m=\u001b[39m \u001b[39m\"\u001b[39m\u001b[39mwǒ ài zhōng guó\u001b[39m\u001b[39m\"\u001b[39m\n\u001b[1;32m----> 9\u001b[0m hanzi_sentence_with_tone \u001b[39m=\u001b[39m \u001b[39m\"\u001b[39m\u001b[39m \u001b[39m\u001b[39m\"\u001b[39m\u001b[39m.\u001b[39mjoin([\u001b[39m\"\u001b[39m\u001b[39m\"\u001b[39m\u001b[39m.\u001b[39mjoin(pinyin(word, style\u001b[39m=\u001b[39mStyle\u001b[39m.\u001b[39mTONE3)) \u001b[39mfor\u001b[39;00m word \u001b[39min\u001b[39;00m sentence_with_tone\u001b[39m.\u001b[39msplit()])\n\u001b[0;32m     10\u001b[0m \u001b[39mprint\u001b[39m(hanzi_sentence_with_tone)\n",
      "Cell \u001b[1;32mIn[14], line 9\u001b[0m, in \u001b[0;36m<listcomp>\u001b[1;34m(.0)\u001b[0m\n\u001b[0;32m      3\u001b[0m \u001b[39m# 将单词转换成带音调的中文\u001b[39;00m\n\u001b[0;32m      4\u001b[0m \u001b[39m# hanzi_with_tone = \"Yì Bāo Huā\".join(pinyin(\"pīn yīn\", style=Style.TONE3))\u001b[39;00m\n\u001b[0;32m      5\u001b[0m \u001b[39m# print(hanzi_with_tone)  # 输出结果：pīn yīn\u001b[39;00m\n\u001b[0;32m      6\u001b[0m \n\u001b[0;32m      7\u001b[0m \u001b[39m# 将带有音调的句子转换成中文\u001b[39;00m\n\u001b[0;32m      8\u001b[0m sentence_with_tone \u001b[39m=\u001b[39m \u001b[39m\"\u001b[39m\u001b[39mwǒ ài zhōng guó\u001b[39m\u001b[39m\"\u001b[39m\n\u001b[1;32m----> 9\u001b[0m hanzi_sentence_with_tone \u001b[39m=\u001b[39m \u001b[39m\"\u001b[39m\u001b[39m \u001b[39m\u001b[39m\"\u001b[39m\u001b[39m.\u001b[39mjoin([\u001b[39m\"\u001b[39;49m\u001b[39m\"\u001b[39;49m\u001b[39m.\u001b[39;49mjoin(pinyin(word, style\u001b[39m=\u001b[39;49mStyle\u001b[39m.\u001b[39;49mTONE3)) \u001b[39mfor\u001b[39;00m word \u001b[39min\u001b[39;00m sentence_with_tone\u001b[39m.\u001b[39msplit()])\n\u001b[0;32m     10\u001b[0m \u001b[39mprint\u001b[39m(hanzi_sentence_with_tone)\n",
      "\u001b[1;31mTypeError\u001b[0m: sequence item 0: expected str instance, list found"
     ]
    }
   ],
   "source": [
    "from pypinyin import pinyin, lazy_pinyin, Style\n",
    "\n",
    "# 将单词转换成带音调的中文\n",
    "# hanzi_with_tone = \"Yì Bāo Huā\".join(pinyin(\"pīn yīn\", style=Style.TONE3))\n",
    "# print(hanzi_with_tone)  # 输出结果：pīn yīn\n",
    "\n",
    "# 将带有音调的句子转换成中文\n",
    "sentence_with_tone = \"wǒ ài zhōng guó\"\n",
    "hanzi_sentence_with_tone = \" \".join([\"\".join(pinyin(word, style=Style.TONE3)) for word in sentence_with_tone.split()])\n",
    "print(hanzi_sentence_with_tone)  # 输出结果：wǒ ài zhōng guó\n"
   ]
  }
 ],
 "metadata": {
  "kernelspec": {
   "display_name": "base",
   "language": "python",
   "name": "python3"
  },
  "language_info": {
   "codemirror_mode": {
    "name": "ipython",
    "version": 3
   },
   "file_extension": ".py",
   "mimetype": "text/x-python",
   "name": "python",
   "nbconvert_exporter": "python",
   "pygments_lexer": "ipython3",
   "version": "3.10.9"
  },
  "orig_nbformat": 4
 },
 "nbformat": 4,
 "nbformat_minor": 2
}
