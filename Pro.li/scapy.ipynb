{
 "cells": [
  {
   "cell_type": "code",
   "execution_count": 2,
   "metadata": {},
   "outputs": [],
   "source": [
    "from scapy.all import *\n",
    "from threading import Thread\n",
    "import pandas\n",
    "import time\n",
    "import os"
   ]
  },
  {
   "cell_type": "code",
   "execution_count": null,
   "metadata": {},
   "outputs": [],
   "source": [
    "# initialize the networks dataframe that will contain all access points nearby\n",
    "networks = pandas.DataFrame(columns=[\"BSSID\", \"SSID\", \"dBm_Signal\", \"Channel\", \"Crypto\"])\n",
    "# set the index BSSID (MAC address of the AP)\n",
    "networks.set_index(\"BSSID\", inplace=True)"
   ]
  },
  {
   "cell_type": "code",
   "execution_count": null,
   "metadata": {},
   "outputs": [],
   "source": [
    "def callback(packet):\n",
    "    if packet.haslayer(Dot11Beacon):\n",
    "        # extract the MAC address of the network\n",
    "        bssid = packet[Dot11].addr2\n",
    "        # get the name of it\n",
    "        ssid = packet[Dot11Elt].info.decode()\n",
    "        try:\n",
    "            dbm_signal = packet.dBm_AntSignal\n",
    "        except:\n",
    "            dbm_signal = \"N/A\"\n",
    "        # extract network stats\n",
    "        stats = packet[Dot11Beacon].network_stats()\n",
    "        # get the channel of the AP\n",
    "        channel = stats.get(\"channel\")\n",
    "        # get the crypto\n",
    "        crypto = stats.get(\"crypto\")\n",
    "        networks.loc[bssid] = (ssid, dbm_signal, channel, crypto)"
   ]
  },
  {
   "cell_type": "code",
   "execution_count": null,
   "metadata": {},
   "outputs": [],
   "source": [
    "def print_all():\n",
    "    while True:\n",
    "        os.system(\"clear\")\n",
    "        print(networks)\n",
    "        time.sleep(0.5)"
   ]
  },
  {
   "cell_type": "code",
   "execution_count": null,
   "metadata": {},
   "outputs": [],
   "source": [
    "if __name__ == \"__main__\":\n",
    "    # interface name, check using iwconfig\n",
    "    interface = \"wlan0mon\"\n",
    "    # start the thread that prints all the networks\n",
    "    printer = Thread(target=print_all)\n",
    "    printer.daemon = True\n",
    "    printer.start()\n",
    "    # start sniffing\n",
    "    sniff(prn=callback, iface=interface)"
   ]
  }
 ],
 "metadata": {
  "kernelspec": {
   "display_name": "base",
   "language": "python",
   "name": "python3"
  },
  "language_info": {
   "codemirror_mode": {
    "name": "ipython",
    "version": 3
   },
   "file_extension": ".py",
   "mimetype": "text/x-python",
   "name": "python",
   "nbconvert_exporter": "python",
   "pygments_lexer": "ipython3",
   "version": "3.10.10"
  },
  "orig_nbformat": 4
 },
 "nbformat": 4,
 "nbformat_minor": 2
}
