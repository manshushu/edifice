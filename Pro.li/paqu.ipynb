{
 "cells": [
  {
   "cell_type": "code",
   "execution_count": 38,
   "metadata": {},
   "outputs": [
    {
     "data": {
      "text/plain": [
       "'c:\\\\ProgramData\\\\anaconda3\\\\python.exe'"
      ]
     },
     "execution_count": 38,
     "metadata": {},
     "output_type": "execute_result"
    }
   ],
   "source": [
    "import sys\n",
    "sys.executable"
   ]
  },
  {
   "cell_type": "code",
   "execution_count": 39,
   "metadata": {},
   "outputs": [],
   "source": [
    "from requests_html import HTMLSession\n",
    "import pandas as pd\n"
   ]
  },
  {
   "attachments": {},
   "cell_type": "markdown",
   "metadata": {},
   "source": [
    "# 使用requestshtml 爬，选\n",
    "调试和生产逻辑混在一起"
   ]
  },
  {
   "cell_type": "code",
   "execution_count": 40,
   "metadata": {},
   "outputs": [],
   "source": [
    "urls=['http://www.tcmdoc.cn/ShuJuKu/ZhongYao/'+str(i)+'.thtml' for i in range(1,10)]"
   ]
  },
  {
   "cell_type": "code",
   "execution_count": 41,
   "metadata": {},
   "outputs": [],
   "source": [
    "\n",
    "\n",
    "def collect_data(url):\n",
    "    session = HTMLSession()\n",
    "    r = session.get(url)\n",
    "\n",
    "    # 解析表格内容，并转换为DataFrame格式\n",
    "    name = r.html.xpath(\"/html/body/form/div[6]/div[1]/div[2]/p/span\", first=True)\n",
    "    info=r.html.find(\"#PanelContent > p:nth-child(2)\", first=True)\n",
    "    result=[]\n",
    "    result.append(name.text)\n",
    "    # result.append(info.text)\n",
    "    return result"
   ]
  },
  {
   "cell_type": "code",
   "execution_count": 42,
   "metadata": {},
   "outputs": [],
   "source": [
    "jihe=[]\n",
    "for i in urls:\n",
    "    \n",
    "    jihe.append(collect_data(i))\n",
    "\n"
   ]
  },
  {
   "cell_type": "code",
   "execution_count": 43,
   "metadata": {},
   "outputs": [
    {
     "ename": "AttributeError",
     "evalue": "'NoneType' object has no attribute 'text'",
     "output_type": "error",
     "traceback": [
      "\u001b[1;31m---------------------------------------------------------------------------\u001b[0m",
      "\u001b[1;31mAttributeError\u001b[0m                            Traceback (most recent call last)",
      "Cell \u001b[1;32mIn[43], line 2\u001b[0m\n\u001b[0;32m      1\u001b[0m url\u001b[39m=\u001b[39m\u001b[39m'\u001b[39m\u001b[39mhttp://www.tcmdoc.cn/ShuJuKu/XueWei/index.aspx\u001b[39m\u001b[39m'\u001b[39m\n\u001b[1;32m----> 2\u001b[0m \u001b[39mprint\u001b[39m(collect_data(url))\n",
      "Cell \u001b[1;32mIn[41], line 9\u001b[0m, in \u001b[0;36mcollect_data\u001b[1;34m(url)\u001b[0m\n\u001b[0;32m      7\u001b[0m info\u001b[39m=\u001b[39mr\u001b[39m.\u001b[39mhtml\u001b[39m.\u001b[39mfind(\u001b[39m\"\u001b[39m\u001b[39m#PanelContent > p:nth-child(2)\u001b[39m\u001b[39m\"\u001b[39m, first\u001b[39m=\u001b[39m\u001b[39mTrue\u001b[39;00m)\n\u001b[0;32m      8\u001b[0m result\u001b[39m=\u001b[39m[]\n\u001b[1;32m----> 9\u001b[0m result\u001b[39m.\u001b[39mappend(name\u001b[39m.\u001b[39;49mtext)\n\u001b[0;32m     10\u001b[0m \u001b[39m# result.append(info.text)\u001b[39;00m\n\u001b[0;32m     11\u001b[0m \u001b[39mreturn\u001b[39;00m result\n",
      "\u001b[1;31mAttributeError\u001b[0m: 'NoneType' object has no attribute 'text'"
     ]
    }
   ],
   "source": [
    "url='http://www.tcmdoc.cn/ShuJuKu/XueWei/index.aspx'\n",
    "print(collect_data(url))"
   ]
  }
 ],
 "metadata": {
  "kernelspec": {
   "display_name": "base",
   "language": "python",
   "name": "python3"
  },
  "language_info": {
   "codemirror_mode": {
    "name": "ipython",
    "version": 3
   },
   "file_extension": ".py",
   "mimetype": "text/x-python",
   "name": "python",
   "nbconvert_exporter": "python",
   "pygments_lexer": "ipython3",
   "version": "3.10.9"
  },
  "orig_nbformat": 4
 },
 "nbformat": 4,
 "nbformat_minor": 2
}
