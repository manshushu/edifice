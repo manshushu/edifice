{
 "cells": [
  {
   "cell_type": "code",
   "execution_count": null,
   "metadata": {},
   "outputs": [],
   "source": []
  },
  {
   "attachments": {},
   "cell_type": "markdown",
   "metadata": {},
   "source": [
    "Scrapy允许在settings.py文件中设置User-Agent，如下所示：\n",
    "\n",
    "```python\n",
    "# settings.py\n",
    "\n",
    "USER_AGENT = 'Mozilla/5.0 (Windows NT 10.0; Win64; x64) AppleWebKit/537.36 (KHTML, like Gecko) Chrome/58.0.3029.110 Safari/537.3'\n",
    "```\n",
    "\n",
    "可以将任何您喜欢的User-Agent字符串设置为上述位置的值。 这将用于每个请求发送到服务器。\n",
    "\n",
    "如果要对特定的请求进行user-agent设置，可以在发送请求时指定headers参数，如下所示：\n",
    "\n",
    "```python\n",
    "import scrapy\n",
    "\n",
    "class MySpider(scrapy.Spider):\n",
    "    name = 'example.com'\n",
    "\n",
    "    def start_requests(self):\n",
    "        yield scrapy.Request(\n",
    "            url='http://www.example.com',\n",
    "            headers={\n",
    "                'User-Agent': 'Mozilla/5.0 (Windows NT 10.0; Win64; x64) AppleWebKit/537.36 (KHTML, like Gecko) Chrome/58.0.3029.110 Safari/537.3'\n",
    "            }\n",
    "        )\n",
    "```\n",
    "\n",
    "在这里，我们向Request方法传递了一个包含User-Agent头的字典。 这仅适用于当前请求，而不是所有请求，因此在需要更细粒度控制时很有用。"
   ]
  }
 ],
 "metadata": {
  "kernelspec": {
   "display_name": "base",
   "language": "python",
   "name": "python3"
  },
  "language_info": {
   "codemirror_mode": {
    "name": "ipython",
    "version": 3
   },
   "file_extension": ".py",
   "mimetype": "text/x-python",
   "name": "python",
   "nbconvert_exporter": "python",
   "pygments_lexer": "ipython3",
   "version": "3.10.9"
  },
  "orig_nbformat": 4
 },
 "nbformat": 4,
 "nbformat_minor": 2
}
