{
 "cells": [
  {
   "cell_type": "code",
   "execution_count": 2,
   "metadata": {},
   "outputs": [
    {
     "data": {
      "text/plain": [
       "课程    int64\n",
       "dtype: object"
      ]
     },
     "execution_count": 2,
     "metadata": {},
     "output_type": "execute_result"
    }
   ],
   "source": [
    "import pandas as pd\n",
    "\n",
    "df = pd.read_csv('4ci_data.csv', encoding='GBK')\n",
    "df.head()\n",
    "grouped = df.groupby(\"学号/卡号/工号\")\n",
    "result=grouped.count()\n",
    "result.drop(['所在组织','Unnamed: 2','Unnamed: 3','Unnamed: 4','学习时间'],axis=1,inplace=True)\n",
    "# result.iloc[:, 0].str.replace('\\d+', '')\n",
    "result.to_csv('try.csv', encoding='GBK')\n",
    "result.dtypes\n",
    "# 索引问题"
   ]
  },
  {
   "cell_type": "code",
   "execution_count": 3,
   "metadata": {},
   "outputs": [],
   "source": [
    "import numpy as np\n",
    "import re\n",
    "\n",
    "pattern = re.compile(r'[^\\u4e00-\\u9fa5]')\n",
    "df1 = pd.read_csv('test.csv', encoding='GBK')\n",
    "\n",
    "df1['学号/卡号/工号'].astype(object)\n",
    "\n",
    "df1['学号/卡号/工号']=df1.iloc[:, 0].apply(lambda x: re.sub(pattern, '', x))\n",
    "df1['学号/卡号/工号'].replace('', np.nan, inplace=True)\n",
    "df1.dropna(how='any', subset = ['学号/卡号/工号'] ,inplace=True)\n",
    "df1.rename(columns={'学号/卡号/工号':'姓名'},inplace=True)\n",
    "df1.dtypes\n",
    "# df1.head()\n",
    "df1.to_csv('re.csv', encoding='GBK',index=False)\n",
    "# counts = df1['姓名'].value_counts(dropna=False)"
   ]
  },
  {
   "cell_type": "code",
   "execution_count": 4,
   "metadata": {},
   "outputs": [],
   "source": [
    "df2=pd.read_csv('result.csv',encoding='GBK')\n",
    "df2.head()\n",
    "\n",
    "merged_df = pd.merge(df2['姓名'], df1[['姓名', '0']], on='姓名', how='left')\n",
    "merged_df\n",
    "# 会丢失部分数据\n",
    "# left改成inner一半对，如果不改部分出错\n",
    "merged_df['0'].replace(np.nan,0 , inplace=True)\n",
    "merged_df.rename(columns={'0':'计数'},inplace=True)\n",
    "merged_df.to_csv('大学习.csv',encoding='GBK',index=False)"
   ]
  }
 ],
 "metadata": {
  "kernelspec": {
   "display_name": "base",
   "language": "python",
   "name": "python3"
  },
  "language_info": {
   "codemirror_mode": {
    "name": "ipython",
    "version": 3
   },
   "file_extension": ".py",
   "mimetype": "text/x-python",
   "name": "python",
   "nbconvert_exporter": "python",
   "pygments_lexer": "ipython3",
   "version": "3.8.8"
  },
  "orig_nbformat": 4
 },
 "nbformat": 4,
 "nbformat_minor": 2
}
