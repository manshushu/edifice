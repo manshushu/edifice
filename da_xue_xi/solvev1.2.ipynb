{
 "cells": [
  {
   "cell_type": "code",
   "execution_count": null,
   "metadata": {},
   "outputs": [],
   "source": [
    "import pandas as pd\n",
    "import numpy as np\n",
    "import re"
   ]
  },
  {
   "cell_type": "code",
   "execution_count": null,
   "metadata": {},
   "outputs": [],
   "source": [
    "\n",
    "def group_count_save(file_path, output_file_path):\n",
    "    \"\"\"\n",
    "    Reads a csv file, groups the data by '学号/卡号/工号', counts the number of occurrences,\n",
    "    removes unnecessary columns, renames the '课程' column as '0', and saves it to a new csv file.\n",
    "\n",
    "    Parameters:\n",
    "    file_path (str): File path of the input csv file.\n",
    "    output_file_path (str): File path where the grouped and counted dataframe should be saved.\n",
    "    \"\"\"\n",
    "\n",
    "    # Read the csv file into a dataframe, skipping the first row\n",
    "    df = pd.read_csv(file_path, encoding='GBK', skiprows=1)\n",
    "\n",
    "    # Group the data by '学号/卡号/工号' and count the number of occurrences\n",
    "    grouped = df.groupby(\"学号/卡号/工号\").count()\n",
    "\n",
    "    # Remove unnecessary columns\n",
    "    grouped.drop(['所在组织','Unnamed: 2','Unnamed: 3','Unnamed: 4','学习时间'], axis=1, inplace=True)\n",
    "\n",
    "    # Rename the '课程' column as '0'\n",
    "    grouped.rename(columns={'课程': '0'}, inplace=True)\n",
    "\n",
    "    # Save the grouped and counted dataframe to a new csv file\n",
    "    grouped.to_csv(output_file_path, encoding='GBK')\n"
   ]
  },
  {
   "cell_type": "code",
   "execution_count": null,
   "metadata": {},
   "outputs": [],
   "source": [
    "\n",
    "def clean_data(file_path):\n",
    "    \"\"\"\n",
    "    Cleans the data by removing non-Chinese characters from the '学号/卡号/工号' column and \n",
    "    renaming it as '姓名'. Saves the cleaned dataframe to a new csv file and returns the counts \n",
    "    of unique names in the dataframe.\n",
    "\n",
    "    Parameters:\n",
    "    file_path (str): File path of the csv file to be cleaned.\n",
    "    \n",
    "    Returns:\n",
    "    Pandas Series: A series object containing the counts of unique names in the dataframe.\n",
    "    \"\"\"\n",
    "    pattern = re.compile(r'[^\\u4e00-\\u9fa5]')\n",
    "    df1 = pd.read_csv(file_path, encoding='GBK')\n",
    "    df1['学号/卡号/工号'].astype(object)\n",
    "    df1['姓名'] = df1.iloc[:, 0].apply(lambda x: re.sub(pattern, '', x))\n",
    "    df1['姓名'].replace('', np.nan, inplace=True)\n",
    "    df1.dropna(how='any', subset=['姓名'], inplace=True)\n",
    "    df1.rename(columns={'学号/卡号/工号': '姓名'}, inplace=True)\n",
    "    df1.to_csv('re.csv', encoding='GBK', index=False)\n",
    "    # name_counts = df1['姓名'].value_counts(dropna=False)\n",
    "    # return name_counts\n"
   ]
  },
  {
   "cell_type": "code",
   "execution_count": null,
   "metadata": {},
   "outputs": [],
   "source": [
    "\n",
    "def merge_and_save(file_path1, file_path2, output_file_path):\n",
    "    \"\"\"\n",
    "    Reads two csv files, merges them based on the '姓名' column, fills missing values with 0, \n",
    "    renames the '0' column as '计数', and saves the merged dataframe to a new csv file.\n",
    "\n",
    "    Parameters:\n",
    "    file_path1 (str): File path of the first csv file.\n",
    "    file_path2 (str): File path of the second csv file.\n",
    "    output_file_path (str): File path where the merged dataframe should be saved.\n",
    "    \"\"\"\n",
    "    \n",
    "    # Read the two csv files into separate dataframes\n",
    "    df1 = pd.read_csv(file_path1, encoding='GBK')\n",
    "    df2 = pd.read_csv(file_path2, encoding='GBK')\n",
    "    \n",
    "    # Merge the two dataframes on the '姓名' column\n",
    "    merged_df = pd.merge(df2['姓名'], df1[['姓名', '0']], on='姓名', how='left')\n",
    "    \n",
    "    # Replace missing values in the '0' column with 0\n",
    "    merged_df['0'].replace(np.nan, 0, inplace=True)\n",
    "    \n",
    "    # Rename the '0' column as '计数'\n",
    "    merged_df.rename(columns={'0': '计数'}, inplace=True)\n",
    "    \n",
    "    # Save the merged dataframe to a new csv file\n",
    "    merged_df.to_csv(output_file_path, encoding='GBK', index=False)\n"
   ]
  },
  {
   "attachments": {},
   "cell_type": "markdown",
   "metadata": {},
   "source": [
    "# 缺个文件名修改，在一开始要统一文件名为input.csv"
   ]
  },
  {
   "cell_type": "code",
   "execution_count": null,
   "metadata": {},
   "outputs": [],
   "source": [
    "group_count_save('input.csv','temp.csv')\n",
    "clean_data('temp.csv')\n",
    "merge_and_save('result.csv','re.csv','大学习统计.csv')"
   ]
  }
 ],
 "metadata": {
  "language_info": {
   "name": "python"
  },
  "orig_nbformat": 4
 },
 "nbformat": 4,
 "nbformat_minor": 2
}
