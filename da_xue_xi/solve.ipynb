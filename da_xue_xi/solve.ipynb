{
 "cells": [
  {
   "cell_type": "code",
   "execution_count": 9,
   "metadata": {},
   "outputs": [],
   "source": [
    "import pandas as pd\n",
    "\n",
    "df1 = pd.read_csv('data1.csv', encoding='GBK', header=1)\n",
    "df2 = pd.read_csv('data2.csv', encoding='GBK', header=1)\n",
    "df3 = pd.read_csv('data3.csv', encoding='GBK', header=1)\n",
    "df4 = pd.read_csv('data4.csv', encoding='GBK', header=1)\n",
    "# 统计前四次\n",
    "merged_df = pd.concat([df1, df2, df3, df4])\n",
    "merged_df.to_excel('4data.xlsx', index=False)\n",
    "# df.head()\n"
   ]
  },
  {
   "cell_type": "code",
   "execution_count": 10,
   "metadata": {},
   "outputs": [],
   "source": [
    "df = pd.read_excel('4data.xlsx', header=1)\n",
    "target = df.iloc[:, 5]\n"
   ]
  },
  {
   "cell_type": "code",
   "execution_count": 1,
   "metadata": {},
   "outputs": [],
   "source": [
    "# import pandas as pd\n",
    "\n",
    "\n",
    "# df = pd.read_csv('data5.csv', encoding='GBK', header=1)\n",
    "# target = df.iloc[:, 5]\n"
   ]
  },
  {
   "cell_type": "code",
   "execution_count": 11,
   "metadata": {},
   "outputs": [
    {
     "name": "stderr",
     "output_type": "stream",
     "text": [
      "<ipython-input-11-bdb59e53696f>:3: FutureWarning: The default value of regex will change from True to False in a future version.\n",
      "  df['姓名'] = target.str.replace('\\d+', '')\n"
     ]
    }
   ],
   "source": [
    "\n",
    "# 洗数据\n",
    "# 使用正则表达式提取姓名\n",
    "df['姓名'] = target.str.replace('\\d+', '')\n",
    "\n",
    "# 去除空值 还没解决，有点小问题，有的行没去掉\n",
    "# df['姓名'] = df['姓名'].dropna()\n",
    "\n",
    "# 计数\n",
    "counts = df['姓名'].value_counts()\n",
    "\n",
    "# 写到新列\n",
    "df['次数'] = df['姓名'].map(counts)\n",
    "# 测试写到新文件\n",
    "# df.drop_duplicates(subset=['姓名'], keep='first', inplace=True)\n",
    "df[['次数','姓名']].to_excel('data.xlsx')\n",
    "\n",
    "\n",
    "# 使用 duplicated 方法检查 DataFrame 中的重复行\n",
    "\n",
    "\n",
    "\n"
   ]
  },
  {
   "cell_type": "code",
   "execution_count": 8,
   "metadata": {},
   "outputs": [],
   "source": [
    "# 与目标比较\n",
    "daipipei = pd.read_excel('result.xlsx')\n",
    "work = daipipei.iloc[:, 0]\n",
    "# 目标列 work 3\n",
    "\n",
    "temp = pd.read_excel('data.xlsx')\n",
    "name = temp['姓名']  # 1\n",
    "data = temp['次数']  # 2\n",
    "# 数据列\n",
    "\n",
    "# daipipei['result'] = None\n",
    "\n",
    "# 使用merge函数根据第一列和第三列匹配两个数据框，并将匹配结果存储在一个新的数据框中\n",
    "merged_df = pd.merge(daipipei['姓名'], temp[['姓名', '次数']], on='姓名', how='inner')\n",
    "# 不知道为什么会有重复，还要去重\n",
    "# merged_df=merged_df.drop_duplicates()\n",
    "\n",
    "merged_df.to_excel('resultt.xlsx')\n"
   ]
  },
  {
   "cell_type": "code",
   "execution_count": 4,
   "metadata": {},
   "outputs": [],
   "source": [
    "\n",
    "\n",
    "df_combined = pd.concat([daipipei, merged_df['次数']])\n",
    "\n",
    "# 写入新数据和原始数据到同一个文件中\n",
    "with pd.ExcelWriter('result.xlsx') as writer:\n",
    "    df_combined.to_excel(writer)\n"
   ]
  }
 ],
 "metadata": {
  "kernelspec": {
   "display_name": "base",
   "language": "python",
   "name": "python3"
  },
  "language_info": {
   "codemirror_mode": {
    "name": "ipython",
    "version": 3
   },
   "file_extension": ".py",
   "mimetype": "text/x-python",
   "name": "python",
   "nbconvert_exporter": "python",
   "pygments_lexer": "ipython3",
   "version": "3.8.8"
  },
  "orig_nbformat": 4
 },
 "nbformat": 4,
 "nbformat_minor": 2
}
