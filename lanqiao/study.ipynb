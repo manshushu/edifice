{
 "cells": [
  {
   "attachments": {},
   "cell_type": "markdown",
   "metadata": {},
   "source": [
    "# 对于"
   ]
  },
  {
   "cell_type": "code",
   "execution_count": 1,
   "metadata": {},
   "outputs": [
    {
     "name": "stdout",
     "output_type": "stream",
     "text": [
      "100\n"
     ]
    }
   ],
   "source": [
    "\"\"\"（1）不同子串\n",
    "一个字符串的非空子串是指字符串中长度至少为 1 的连续的一段字符组成 的串。例如，字符串aaab 有非空子串a, b, aa, ab, aaa, aab, aaab，一共 7 个。 注意在计算时，只算本质不同的串的个数。\n",
    "请问，字符串0100110001010001 有多少个不同的非空子串？\"\"\"\n",
    "input_str = input()\n",
    "num = len(input_str)\n",
    "searched = []\n",
    "for i in range(num):\n",
    "    for j in range(num):\n",
    "        if str(input_str[j:j+i:]) not in searched:\n",
    "            searched.append(str(input_str[j:j+i:]))\n",
    "print(len(searched))"
   ]
  },
  {
   "attachments": {},
   "cell_type": "markdown",
   "metadata": {},
   "source": [
    "# 为什么没有进入心流\n",
    "## 心流是什么\n",
    "- 心流作为我日常生活中获取高阶快乐的一种途径，作为提升自己的一种重要手段，其本质是极度focus然后释放一堆激素\n",
    "- 心流的出现需要满足三个条件\n",
    "  - 明确的目标（心里想的，明确想的，发自内心的，或者是自己对自己强烈要求的）\n",
    "  - 及时的反馈\n",
    "  - 跳一跳的难度做入门，最后是困难的大boss\n",
    "### 对于这个任务为什么我没进入心流\n",
    "- 我不是发自内心的，最起码在认知层面上没有去很想做这件事\n",
    "- 我只是skim和复制粘贴，没能得到及时的反馈，即使输出了结果也只是别人的，不是我自己写的，没有成就感！！，成就感是极其重要的及时反馈\n",
    "- 是跳一跳的难度，但是我认为我可以hold住，并且能看一眼就秒杀（实际上与之相反）\n",
    "# 怎么解决\n",
    "## 围绕三个必要条件进行修改\n",
    "- 首先要明确我为什么要做这件事\n",
    "  - 功利层面：拿奖好找工作\n",
    "  - 兴趣上：我觉得算法题枯燥，要动用大量脑力，出来的结果对现实问题的解决没有帮助\n",
    "  - 别人都在做，我不做就是比人家差\n",
    "  - 大家都在做，这个有一定的认可度\n",
    "- 如何出现反馈，及时反馈\n",
    "  - 参加在线比赛，在线评测，能看到实时的排名进步和积分，收到大家的认可\n",
    "  - 以自己的认知给这东西赋予意义和成就感\n",
    "  - 自己动手去做！！！\n",
    "- 如何进行难度匹配\n",
    "  - 先从最难的开始让思维静下来，然后逐步梭哈？（是一种思路，可以试试）\n",
    "  - 由简单到困难\n",
    "  - 可以不先做出来，只是谈一谈我对每道题的看法和思路，先不上升到代码层面！\n",
    "  - 我给自己的难度还是比较有挑战性的，一上来就要有敏捷的解决思路，一条逻辑链直接转到代码的实现，先在脑袋里实现所有然后copy到机子上。\n",
    "    - 可以改改，想想怎么盖楼房的，先搭架子，框架为先"
   ]
  },
  {
   "cell_type": "code",
   "execution_count": 2,
   "metadata": {},
   "outputs": [
    {
     "name": "stdout",
     "output_type": "stream",
     "text": [
      "BYQ"
     ]
    }
   ],
   "source": [
    "\"\"\"（2）年号字串\n",
    "小明用字母 A 对应数字1，B 对应2，以此类推，用 Z 对应26。对于27以上的数字，小明用两位或更长位的字符串来对应，例如AA 对应 27，AB 对应28，AZ 对应52，LQ 对 329。\n",
    "请问2019 对应的字符串是什么？\"\"\"\n",
    "\n",
    "string = 'ABCDEFGHIJKLMNOPQRSTUVWXYZ'\n",
    "num = 2019\n",
    "yu = []\n",
    "while num >= 26:\n",
    "    yu.append(num%26)\n",
    "    num = num//26\n",
    "yu.append(num)\n",
    "for i in yu[::-1]:\n",
    "    print(string[i-1],end='')"
   ]
  },
  {
   "cell_type": "code",
   "execution_count": 7,
   "metadata": {},
   "outputs": [
    {
     "data": {
      "text/plain": [
       "38"
      ]
     },
     "execution_count": 7,
     "metadata": {},
     "output_type": "execute_result"
    }
   ],
   "source": [
    "num =1000\n",
    "num//26"
   ]
  },
  {
   "cell_type": "code",
   "execution_count": 3,
   "metadata": {},
   "outputs": [
    {
     "name": "stdout",
     "output_type": "stream",
     "text": [
      "4659\n"
     ]
    }
   ],
   "source": [
    "arr = [0 for i in range(20190325)]\n",
    "arr[0] = arr[1] = arr[2] = 1\n",
    "for i in range(3, 20190324):\n",
    "    arr[i] = (arr[i - 1] + arr[i - 2] + arr[i - 3]) % 10000\n",
    "#这个求余可以保证每一次计算只保留后四位（4个0）\n",
    "#但是不会影响数列的计算，因为数列的后几位都是由后面决定的，所以前面舍去也不会影响后几位的值\n",
    "print(arr[20190323])"
   ]
  },
  {
   "cell_type": "code",
   "execution_count": 4,
   "metadata": {},
   "outputs": [
    {
     "name": "stdout",
     "output_type": "stream",
     "text": [
      "40785\n"
     ]
    }
   ],
   "source": [
    "n = 2019\n",
    "count = 0\n",
    "def check(n):\n",
    "    n_str = list(str(n))\n",
    "    if '2' not in n_str:\n",
    "        if '4' not in n_str:\n",
    "            return True\n",
    "    return False\n",
    "for i in range(1,676):\n",
    "    for j in range(i+1,1345):\n",
    "        if check(i) and check(j):\n",
    "            k = n - i - j\n",
    "            if k > j and check(k):\n",
    "                count += 1\n",
    "print(count)"
   ]
  },
  {
   "cell_type": "code",
   "execution_count": 5,
   "metadata": {},
   "outputs": [
    {
     "ename": "ValueError",
     "evalue": "too many values to unpack (expected 2)",
     "output_type": "error",
     "traceback": [
      "\u001b[1;31m---------------------------------------------------------------------------\u001b[0m",
      "\u001b[1;31mValueError\u001b[0m                                Traceback (most recent call last)",
      "\u001b[1;32md:\\edifice\\lanqiao\\study.ipynb Cell 5\u001b[0m in \u001b[0;36m<cell line: 1>\u001b[1;34m()\u001b[0m\n\u001b[1;32m----> <a href='vscode-notebook-cell:/d%3A/edifice/lanqiao/study.ipynb#W5sZmlsZQ%3D%3D?line=0'>1</a>\u001b[0m m, n \u001b[39m=\u001b[39m \u001b[39mmap\u001b[39m(\u001b[39mint\u001b[39m, \u001b[39minput\u001b[39m()\u001b[39m.\u001b[39msplit())\n\u001b[0;32m      <a href='vscode-notebook-cell:/d%3A/edifice/lanqiao/study.ipynb#W5sZmlsZQ%3D%3D?line=1'>2</a>\u001b[0m map_int \u001b[39m=\u001b[39m [[\u001b[39m1\u001b[39m]\u001b[39m*\u001b[39m(n\u001b[39m+\u001b[39m\u001b[39m2\u001b[39m)]\n\u001b[0;32m      <a href='vscode-notebook-cell:/d%3A/edifice/lanqiao/study.ipynb#W5sZmlsZQ%3D%3D?line=2'>3</a>\u001b[0m \u001b[39mfor\u001b[39;00m i \u001b[39min\u001b[39;00m \u001b[39mrange\u001b[39m(\u001b[39m1\u001b[39m, m\u001b[39m+\u001b[39m\u001b[39m1\u001b[39m):\n",
      "\u001b[1;31mValueError\u001b[0m: too many values to unpack (expected 2)"
     ]
    }
   ],
   "source": [
    "m, n = map(int, input().split())\n",
    "map_int = [[1]*(n+2)]\n",
    "for i in range(1, m+1):\n",
    "    map_int.append([1] * (n+2))\n",
    "    nums = input()\n",
    "    nums = \"1\" + nums  # 先建立一个二维数组，再将输入以int类型放入\n",
    "    for j in range(1, n+1):\n",
    "        map_int[i][j] = ord(nums[j]) - 48#先建立一个二维数组，再将输入以int类型放入\n",
    "    map_int[i][-1] = 1\n",
    "map_int.append([1] * (n+2))\n",
    "dirs = [\n",
    "    lambda x, y: (x+1,y),\n",
    "    lambda x, y: (x-1,y),\n",
    "    lambda x, y: (x,y+1),\n",
    "    lambda x, y: (x,y-1),\n",
    "]\n",
    "def prin_path(path):\n",
    "    prin_path = []\n",
    "    action = []\n",
    "    curNode = path[-1]\n",
    "    while curNode[2] != -1:\n",
    "        prin_path.append(curNode)\n",
    "        curNode = path[curNode[2]]\n",
    "    prin_path.reverse()\n",
    "    for node in prin_path:\n",
    "        if node[3] == 1:\n",
    "            action.append('D')\n",
    "        elif node[3] == 2:\n",
    "            action.append('U')\n",
    "        elif node[3] == 3:\n",
    "            action.append('R')\n",
    "        elif node[3] == 4:\n",
    "            action.append('L')\n",
    "    print(len(prin_path))\n",
    "    print(\"\".join(action))\n",
    "def breath_search(x1,y1,x2,y2):\n",
    "    queue = []\n",
    "    path = []\n",
    "    queue.append((x1,y1,-1,-1))\n",
    "    while len(queue)>0 :\n",
    "        curNode = queue.pop(0)\n",
    "        path.append(curNode)\n",
    "        if curNode[0] == x2 and curNode[1] == y2:\n",
    "            prin_path(path)\n",
    "            return True\n",
    "        count = 0\n",
    "        for dir in dirs:\n",
    "            nextNode = dir(curNode[0],curNode[1])\n",
    "            count += 1\n",
    "            if map_int[nextNode[0]][nextNode[1]] == 0:\n",
    "                queue.append((nextNode[0],nextNode[1],len(path)-1,count))\n",
    "                map_int[nextNode[0]][nextNode[1]] = 2\n",
    "    else:\n",
    "        print('无路')\n",
    "        return False\n",
    "breath_search(1,1,m,n)"
   ]
  },
  {
   "cell_type": "code",
   "execution_count": 6,
   "metadata": {},
   "outputs": [
    {
     "ename": "ValueError",
     "evalue": "invalid literal for int() with base 10: ''",
     "output_type": "error",
     "traceback": [
      "\u001b[1;31m---------------------------------------------------------------------------\u001b[0m",
      "\u001b[1;31mValueError\u001b[0m                                Traceback (most recent call last)",
      "\u001b[1;32md:\\edifice\\lanqiao\\study.ipynb Cell 6\u001b[0m in \u001b[0;36m<cell line: 1>\u001b[1;34m()\u001b[0m\n\u001b[1;32m----> <a href='vscode-notebook-cell:/d%3A/edifice/lanqiao/study.ipynb#W6sZmlsZQ%3D%3D?line=0'>1</a>\u001b[0m n \u001b[39m=\u001b[39m \u001b[39mint\u001b[39;49m(\u001b[39minput\u001b[39;49m())\n\u001b[0;32m      <a href='vscode-notebook-cell:/d%3A/edifice/lanqiao/study.ipynb#W6sZmlsZQ%3D%3D?line=1'>2</a>\u001b[0m \u001b[39msum\u001b[39m \u001b[39m=\u001b[39m \u001b[39m0\u001b[39m\n\u001b[0;32m      <a href='vscode-notebook-cell:/d%3A/edifice/lanqiao/study.ipynb#W6sZmlsZQ%3D%3D?line=2'>3</a>\u001b[0m \u001b[39mfor\u001b[39;00m i \u001b[39min\u001b[39;00m \u001b[39mrange\u001b[39m(\u001b[39m1\u001b[39m,n\u001b[39m+\u001b[39m\u001b[39m1\u001b[39m):\n",
      "\u001b[1;31mValueError\u001b[0m: invalid literal for int() with base 10: ''"
     ]
    }
   ],
   "source": [
    "n = int(input())\n",
    "sum = 0\n",
    "for i in range(1,n+1):\n",
    "   list_i = list(str(i))\n",
    "   temp = ['2','0','1','9']\n",
    "   for a in list_i:\n",
    "       if a in temp:\n",
    "           sum += i\n",
    "           break\n",
    "print(sum)"
   ]
  },
  {
   "cell_type": "code",
   "execution_count": null,
   "metadata": {},
   "outputs": [],
   "source": [
    "deep = [0]\n",
    "s = 1\n",
    "for i,num in enumerate(str_num):\n",
    "    if i+1 <= (2**s-1):\n",
    "        deep[s-1] += num\n",
    "    else:\n",
    "        s += 1\n",
    "        deep.append(num)\n",
    "i = deep.index(max(deep))\n",
    "print(i+1)"
   ]
  }
 ],
 "metadata": {
  "kernelspec": {
   "display_name": "base",
   "language": "python",
   "name": "python3"
  },
  "language_info": {
   "codemirror_mode": {
    "name": "ipython",
    "version": 3
   },
   "file_extension": ".py",
   "mimetype": "text/x-python",
   "name": "python",
   "nbconvert_exporter": "python",
   "pygments_lexer": "ipython3",
   "version": "3.9.12"
  },
  "orig_nbformat": 4
 },
 "nbformat": 4,
 "nbformat_minor": 2
}
