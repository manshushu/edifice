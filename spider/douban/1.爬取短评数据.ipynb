{
 "cells": [
  {
   "cell_type": "code",
   "execution_count": 1,
   "metadata": {},
   "outputs": [],
   "source": [
    "def get_web_data(dom = None, cookies = None, headers = None):\n",
    "    \"\"\"\n",
    "       获取每页评论数据\n",
    "    \"\"\"\n",
    "    names = dom.xpath('//div[@class=\"comment-item \"]//span[@class=\"comment-info\"]/a/text()')         # 用户名\n",
    "    ratings = dom.xpath('//div[@class=\"comment-item \"]//span[@class=\"comment-info\"]/span[2]/@class') # 评分\n",
    "    times = dom.xpath('//div[@class=\"comment-item \"]//span[@class=\"comment-info\"]/span[@class=\"comment-time \"]/@title') # 评论发布时间\n",
    "    message = dom.xpath('//div[@class=\"comment-item \"]//div[@class=\"comment\"]//span[@class=\"short\"]/text()')  # 短评正文\n",
    "    user_url = dom.xpath('//div[@class=\"comment-item \"]//span[@class=\"comment-info\"]/a/@href')  # 用户主页网址\n",
    "    votes = dom.xpath('//div[@class=\"comment-item \"]//div[@class=\"comment\"]//span[@class=\"votes vote-count\"]/text()') # 赞同数量\n",
    "    cities = []\n",
    "    load_times = []\n",
    "    for i in user_url:\n",
    "        web_data = requests.get(i, cookies = cookies, headers = header)\n",
    "        dom_url = etree.HTML(web_data.text, etree.HTMLParser(encoding='utf-8'))\n",
    "        address = dom_url.xpath('//div[@class=\"basic-info\"]//div[@class=\"user-info\"]/a/text()') # 用户居住地\n",
    "        load_time = dom_url.xpath('//div[@class=\"basic-info\"]//div[@class=\"user-info\"]/div[@class=\"pl\"]/text()') # 用户入会时间\n",
    "        cities.append(address)\n",
    "        load_times.append(load_time)\n",
    "        time.sleep(2)\n",
    "    ratings = ['' if 'rating' not in i else int(re.findall('\\d{2}', i)[0]) for i in ratings]  # 评分数据整理\n",
    "    load_times = ['' if i == [] else i[1].strip()[:-2] for i in load_times]  # 入会数据整理\n",
    "    cities = ['' if i == [] else i[0] for i in cities]\n",
    "    data = pd.DataFrame({\n",
    "        '用户名': names,\n",
    "        '居住城市': cities,\n",
    "        '加入时间': load_times,\n",
    "        '评分': ratings,\n",
    "        '发表时间': times,\n",
    "        '短评正文': message,\n",
    "        '赞同数量': votes\n",
    "    })\n",
    "    return data"
   ]
  },
  {
   "cell_type": "code",
   "execution_count": 2,
   "metadata": {},
   "outputs": [],
   "source": [
    "from selenium import webdriver\n",
    "from lxml import etree\n",
    "import requests\n",
    "import pandas as pd\n",
    "import time\n",
    "from selenium.webdriver.common.by import By\n",
    "from selenium.webdriver.support.ui import WebDriverWait\n",
    "from selenium.webdriver.support import expected_conditions as EC\n",
    "import re"
   ]
  },
  {
   "cell_type": "code",
   "execution_count": 3,
   "metadata": {},
   "outputs": [],
   "source": [
    "driver = webdriver.Chrome()   # 启动chrome浏览器\n",
    "url = 'https://movie.douban.com/subject/26266893/comments?Status=P'\n",
    "driver.get(url)   # 获取网页源码数据"
   ]
  },
  {
   "cell_type": "code",
   "execution_count": 4,
   "metadata": {},
   "outputs": [],
   "source": [
    "header = {\n",
    "    \"User-Agent\": \"Mozilla/5.0 (Windows NT 10.0; WOW64) AppleWebKit/537.36 (KHTML, like Gecko) Chrome/78.0.3904.108 Safari/537.36\",\n",
    "        }       # 设置请求头"
   ]
  },
  {
   "cell_type": "code",
   "execution_count": 5,
   "metadata": {},
   "outputs": [],
   "source": [
    "cookies_str ='bid=ruFeVtf87PQ; dbcl2=\"201478720:PcdzsQpBLy4\"; ck=YrrJ; _pk_ref.100001.4cf6=%5B%22%22%2C%22%22%2C1609233543%2C%22https%3A%2F%2Faccounts.douban.com%2Fpassport%2Flogin%3Fredir%3Dhttps%253A%252F%252Fmovie.douban.com%252Fsubject%252F26266893%252Fcomments%253Fstatus%253DP%22%5D; _pk_ses.100001.4cf6=*; __utma=30149280.1926750886.1609233544.1609233544.1609233544.1; __utmb=30149280.0.10.1609233544; __utmc=30149280; __utmz=30149280.1609233544.1.1.utmcsr=accounts.douban.com|utmccn=(referral)|utmcmd=referral|utmcct=/passport/login; __utma=223695111.198307051.1609233544.1609233544.1609233544.1; __utmb=223695111.0.10.1609233544; __utmc=223695111; __utmz=223695111.1609233544.1.1.utmcsr=accounts.douban.com|utmccn=(referral)|utmcmd=referral|utmcct=/passport/login; push_noty_num=0; push_doumail_num=0; _pk_id.100001.4cf6=c5b140618a1ae23e.1609233543.1.1609233570.1609233543.'\n",
    "cookies = {}\n",
    "for i in cookies_str.split(';'):  # 将cookies整理成所需格式\n",
    "    k, v = i.split('=', 1)\n",
    "    cookies[k] = v"
   ]
  },
  {
   "cell_type": "code",
   "execution_count": null,
   "metadata": {},
   "outputs": [
    {
     "name": "stdout",
     "output_type": "stream",
     "text": [
      "<selenium.webdriver.remote.webelement.WebElement (session=\"f0788375369078e261065684dfe30b86\", element=\"f351d7c6-13ea-499f-a19e-830c82b99ac9\")>\n",
      "<class 'selenium.webdriver.remote.webelement.WebElement'>\n",
      "<selenium.webdriver.remote.webelement.WebElement (session=\"f0788375369078e261065684dfe30b86\", element=\"c47e150c-7793-48a6-96e5-2f65804eff45\")>\n",
      "<class 'selenium.webdriver.remote.webelement.WebElement'>\n",
      "<selenium.webdriver.remote.webelement.WebElement (session=\"f0788375369078e261065684dfe30b86\", element=\"b2263fb4-e3e0-4eae-9c3e-57472affe5ab\")>\n",
      "<class 'selenium.webdriver.remote.webelement.WebElement'>\n",
      "<selenium.webdriver.remote.webelement.WebElement (session=\"f0788375369078e261065684dfe30b86\", element=\"7a8abe7c-d348-4b5b-85b4-81404306fe65\")>\n",
      "<class 'selenium.webdriver.remote.webelement.WebElement'>\n",
      "<selenium.webdriver.remote.webelement.WebElement (session=\"f0788375369078e261065684dfe30b86\", element=\"4a291ea5-dc6d-428f-88c2-e42fa9e22770\")>\n",
      "<class 'selenium.webdriver.remote.webelement.WebElement'>\n",
      "<selenium.webdriver.remote.webelement.WebElement (session=\"f0788375369078e261065684dfe30b86\", element=\"c4f8c5f5-21af-417a-8df7-e1501cd2245d\")>\n",
      "<class 'selenium.webdriver.remote.webelement.WebElement'>\n"
     ]
    }
   ],
   "source": [
    "# 对所有页面进行数据爬取及解析操作，并进行数据保存\n",
    "all_data = pd.DataFrame()\n",
    "wait = WebDriverWait(driver, 20)\n",
    "while True:\n",
    "    \n",
    "    wait.until(  \n",
    "        EC.element_to_be_clickable(   # 通过该项条件确认网页是否已经加载进来\n",
    "            (By.CSS_SELECTOR, '#comments > div:nth-child(20) > div.comment > h3 > span.comment-info > a') # 当前页最后一个“用户”按钮是否可以点击\n",
    "        )\n",
    "    )\n",
    "    \n",
    "    dom = etree.HTML(driver.page_source, etree.HTMLParser(encoding='utf-8'))   # 网页源码解析，得到一个dom文件\n",
    "    data = get_web_data(dom=dom, cookies=cookies, headers = header)\n",
    "    all_data = pd.concat([all_data, data], axis=0)\n",
    "   \n",
    "    if driver.find_element_by_css_selector('#paginator > a.next')==[]:   # 判定是否还有“后页”按钮\n",
    "        break\n",
    "    \n",
    "    confirm_bnt = wait.until(\n",
    "        EC.element_to_be_clickable(\n",
    "            (By.CSS_SELECTOR, '#paginator > a.next')\n",
    "        )\n",
    "    )\n",
    "    confirm_bnt.click()   # 执行翻页操作\n",
    "    "
   ]
  },
  {
   "cell_type": "code",
   "execution_count": 14,
   "metadata": {
    "scrolled": false
   },
   "outputs": [],
   "source": [
    "all_data.to_csv('douban111.csv', index=None, encoding='GB18030')   # 将数据以csv文件的方式写出"
   ]
  },
  {
   "cell_type": "code",
   "execution_count": 19,
   "metadata": {},
   "outputs": [
    {
     "data": {
      "text/plain": [
       "(500, 7)"
      ]
     },
     "execution_count": 19,
     "metadata": {},
     "output_type": "execute_result"
    }
   ],
   "source": [
    "all_data.shape"
   ]
  },
  {
   "cell_type": "code",
   "execution_count": null,
   "metadata": {},
   "outputs": [],
   "source": []
  }
 ],
 "metadata": {
  "kernelspec": {
   "display_name": "Python 3",
   "language": "python",
   "name": "python3"
  },
  "language_info": {
   "codemirror_mode": {
    "name": "ipython",
    "version": 3
   },
   "file_extension": ".py",
   "mimetype": "text/x-python",
   "name": "python",
   "nbconvert_exporter": "python",
   "pygments_lexer": "ipython3",
   "version": "3.7.6"
  },
  "toc": {
   "base_numbering": 1,
   "nav_menu": {},
   "number_sections": true,
   "sideBar": true,
   "skip_h1_title": false,
   "title_cell": "Table of Contents",
   "title_sidebar": "Contents",
   "toc_cell": false,
   "toc_position": {},
   "toc_section_display": true,
   "toc_window_display": false
  }
 },
 "nbformat": 4,
 "nbformat_minor": 2
}
